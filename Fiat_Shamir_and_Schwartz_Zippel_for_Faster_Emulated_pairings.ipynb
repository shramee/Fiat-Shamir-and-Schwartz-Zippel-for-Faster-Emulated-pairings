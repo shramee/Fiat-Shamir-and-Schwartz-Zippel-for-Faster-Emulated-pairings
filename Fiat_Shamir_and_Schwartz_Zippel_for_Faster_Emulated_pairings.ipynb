{
  "nbformat": 4,
  "nbformat_minor": 0,
  "metadata": {
    "colab": {
      "provenance": []
    },
    "kernelspec": {
      "name": "python3",
      "display_name": "Python 3"
    },
    "language_info": {
      "name": "python"
    }
  },
  "cells": [
    {
      "cell_type": "markdown",
      "source": [
        "# Fiat-Shamir and Schwartz-Zippel for Faster Emulated Pairings"
      ],
      "metadata": {
        "id": "Pv3cUe9Dqoih"
      }
    },
    {
      "cell_type": "markdown",
      "source": [
        "### 1. Introduction\n",
        "\n",
        "In the write-up [Faster Extension Field multiplications for Emulated Pairing Circuits](https://hackmd.io/@feltroidprime/B1eyHHXNT#fn3), Feltroid Prime discusses using Schwartz Zippel lemma and Fiat Shamir heuristics to optimize Field multiplications (Sections 1, 2 and 3).\n",
        "\n",
        "Starting with representing $𝔽_{p12}$ (and equivalently $𝔽_{p6}$) as direct extensions in section 1. Then representing multiplication operation as a polynomial in section 2 (equation 1). Finally using Fiat-Shamir and the Schwartz-Zippel lemma in the circuit to verify the computation.\n",
        "\n",
        "> ${A(x)*B(x) = Q(x)*P(x) + R(x)}$ &emsp; &emsp; &emsp;${(1)}$\n",
        "\n",
        "We will expand on this to apply it to larger computations for greater cost savings."
      ],
      "metadata": {
        "id": "TUjrd4HH6R0z"
      }
    },
    {
      "cell_type": "markdown",
      "source": [
        "### 2. Challenges\n",
        "\n",
        "As we try to prove larger computations, say exponentiation of an $𝔽_{p12}$ by n, the degree of ${Q(x)}$ grows linearly with n.\n",
        "With a large degree comes increased calldata size and computation costs for hashing each coefficient for Fiat-Shamir. To make things easier we prefer an optimised version for larger computations (equation 2).\n",
        "\n",
        "> $A(x)*B(x) = R(x)$ $mod$ $P(x)$ &emsp; &emsp; &emsp;$(1)$\n",
        "\n",
        "With ${P(x)}$ for modulo, bitsize of `x` from Fiat Shamir needs to be reduced to $1/(deg P(x))$ of maximum bitsize possible for a modulo operation."
      ],
      "metadata": {
        "id": "Hbwj8ZWh6YAJ"
      }
    },
    {
      "cell_type": "markdown",
      "source": [
        "### 3. Introduction\n"
      ],
      "metadata": {
        "id": "DGvf-pR96YeG"
      }
    },
    {
      "cell_type": "code",
      "execution_count": null,
      "metadata": {
        "id": "B3ohT_qlAwGd"
      },
      "outputs": [],
      "source": []
    }
  ]
}